{
 "cells": [
  {
   "cell_type": "code",
   "execution_count": 16,
   "id": "b8f5a0a9",
   "metadata": {},
   "outputs": [
    {
     "name": "stdout",
     "output_type": "stream",
     "text": [
      "disgustedcat9$\n"
     ]
    }
   ],
   "source": [
    "import random\n",
    "\n",
    "\n",
    "adjective = ['adorable','agreeable','alert','alive','bad','beautiful','blue-eyed',\n",
    "              'blushing','cheerful','creepy','cruel','curious','cute','dangerous',\n",
    "              'different','difficult','disgusted','doubtful','drab','dull']\n",
    "\n",
    "noun = ['man', 'mountain', 'state', 'ocean', 'country', 'building', 'cat',\n",
    "        'airline','bed', 'cat', 'movie', 'train', 'country', \n",
    "        'book', 'phone', 'match', 'speaker', 'clock', 'pen', 'David', 'violin']\n",
    "digit = ['0', '1', '2', '3', '4', '5', '6', '7', '8', '9']\n",
    "symbol = ['@', '#', '$', '%', '=', ':', '?', '.', '/', '|', '~', '>',\n",
    "\t\t'*', '(', ')', '<']\n",
    "\n",
    "\n",
    "adjectives = random.choice(adjective)\n",
    "nouns = random.choice(noun)\n",
    "digits = random.choice(digit)\n",
    "symbols = random.choice(symbol)\n",
    "\n",
    "password =  str(adjectives) + str(nouns) + str(digits)+str(symbols)\n",
    "\n",
    "print(password)\n"
   ]
  },
  {
   "cell_type": "code",
   "execution_count": null,
   "id": "50d1a50c",
   "metadata": {},
   "outputs": [],
   "source": []
  },
  {
   "cell_type": "code",
   "execution_count": null,
   "id": "94fac793",
   "metadata": {},
   "outputs": [],
   "source": []
  },
  {
   "cell_type": "code",
   "execution_count": null,
   "id": "b52ee7fb",
   "metadata": {},
   "outputs": [],
   "source": []
  }
 ],
 "metadata": {
  "kernelspec": {
   "display_name": "Python 3 (ipykernel)",
   "language": "python",
   "name": "python3"
  },
  "language_info": {
   "codemirror_mode": {
    "name": "ipython",
    "version": 3
   },
   "file_extension": ".py",
   "mimetype": "text/x-python",
   "name": "python",
   "nbconvert_exporter": "python",
   "pygments_lexer": "ipython3",
   "version": "3.8.12"
  }
 },
 "nbformat": 4,
 "nbformat_minor": 5
}
